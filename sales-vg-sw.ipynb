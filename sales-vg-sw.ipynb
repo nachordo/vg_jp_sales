{
 "cells": [
  {
   "cell_type": "code",
   "execution_count": 2,
   "metadata": {},
   "outputs": [],
   "source": [
    "from bs4 import BeautifulSoup\n",
    "import requests\n",
    "import pandas as pd\n",
    "import re"
   ]
  },
  {
   "cell_type": "code",
   "execution_count": null,
   "metadata": {},
   "outputs": [],
   "source": []
  },
  {
   "cell_type": "code",
   "execution_count": 3,
   "metadata": {},
   "outputs": [],
   "source": [
    "url_tab = 'https://www.resetera.com/threads/media-create-sales-week-53-2020-dec-28-jan-03.356956/'\n"
   ]
  },
  {
   "cell_type": "code",
   "execution_count": 4,
   "metadata": {},
   "outputs": [
    {
     "name": "stdout",
     "output_type": "stream",
     "text": [
      "Media Create Sales: Week 53, 2020 (Dec 28 - Jan 03)\n",
      "\n",
      "01./01. [NSW] Momotaro Dentetsu: Showa, Heisei, Reiwa mo Teiban! <TBL> (Konami) {2020.11.19} (¥6.300)\n",
      "02./02. [NSW] Animal Crossing: New Horizons # <ETC> (Nintendo) {2020.03.20} (¥5.980)\n",
      "03./03. [NSW] Ring Fit Adventure # <HOB> (Nintendo) {2019.10.18} (¥7.980)\n",
      "04./04. [NSW] Mario Kart 8 Deluxe <RCE> (Nintendo) {2017.04.28} (¥5.980)\n",
      "05./05. [NSW] Super Smash Bros. Ultimate # <FTG> (Nintendo) {2018.12.07} (¥7.200)\n",
      "\n",
      "Top 5\n",
      "\n",
      "NSW - 5\n",
      "\n",
      "(Taiwan)\n",
      "01./01. [NSW] Ring Fit Adventure <HOB> (Nintendo) {2019.10.31}\n",
      "02./04. [NSW] Mario Kart 8 Deluxe <RCE> (Nintendo) {2017.12.15}\n",
      "03./05. [NSW] Super Mario Party <ETC> (Nintendo) {2018.10.05}\n",
      "04./00. [NSW] Animal Crossing: New Horizons <ETC> (Nintendo) {2020.03.20}\n",
      "05./02. [NSW] Hyrule Warriors: Age of Calamity <ACT> (Nintendo) {2020.11.20}\n",
      "\n",
      "Top 5\n",
      "\n",
      "NSW - 5\n",
      "\n",
      "(South Korea)\n",
      "01./02. [NSW] Ring Fit Adventure <HOB> (Nintendo) {2019.10.18}\n",
      "02./01. [NSW] Animal Crossing: New Horizons <ETC> (Nintendo) {2020.03.20}\n",
      "03./03. [NSW] Mario Kart 8 Deluxe <RCE> (Nintendo) {2017.12.15}\n",
      "04./04. [NSW] Pokemon Sword / Shield <RPG> (Pokemon Co.) {2019.11.15}\n",
      "05./00. [NSW] The Legend of Zelda: Breath of the Wild <ADV> (Nintendo) {2018.02.01}\n",
      "\n",
      "Top 5\n",
      "\n",
      "NSW - 5\n",
      "\n",
      "\n",
      "Famitsu Sales: Week 1, 2021 (Dec 28 - Jan 03)\n",
      "\n",
      "01./01. [NSW] Momotaro Dentetsu: Showa, Heisei, Reiwa mo Teiban! <TBL> (Konami) {2020.11.19} (¥6.300) - 190.427 / 1.423.450 <80-100%> (-29%)\n",
      "02./02. [NSW] Animal Crossing: New Horizons # <ETC> (Nintendo) {2020.03.20} (¥5.980) - 94.382 / 6.472.485 <80-100%> (-12%)\n",
      "03./03. [NSW] Mario Kart 8 Deluxe <RCE> (Nintendo) {2017.04.28} (¥5.980) - 83.853 / 3.541.036 <80-100%> (+23%)\n",
      "04./04. [NSW] Ring Fit Adventure # <HOB> (Nintendo) {2019.10.18} (¥7.980) - 70.714 / 2.157.719 <80-100%> (+21%)\n",
      "05./06. [NSW] Super Smash Bros. Ultimate # <FTG> (Nintendo) {2018.12.07} (¥7.200) - 54.865 / 4.068.039 <80-100%> (+3%)\n",
      "06./09. [NSW] Clubhouse Games: 51 Worldwide Classics <TBL> (Nintendo) {2020.06.05} (¥3.980) - 45.354 / 565.003 <80-100%> (+14%)\n",
      "07./08. [NSW] Super Mario Party # <ETC> (Nintendo) {2018.10.05} (¥5.980) - 44.867 / 1.774.663 <80-100%> (+7%)\n",
      "08./07. [NSW] Minecraft # <ADV> (Microsoft Game Studios) {2018.06.21} (¥3.600) - 37.530 / 1.740.451 <80-100%> (-23%)\n",
      "09./05. [NSW] Pikmin 3 Deluxe <ACT> (Nintendo) {2020.10.30} (¥5.980) - 36.350 / 499.156 <80-100%> (-34%)\n",
      "10./10. [NSW] Super Mario 3D All-Stars <Super Mario 64 \\ Super Mario Sunshine \\ Super Mario Galaxy> <ACT> (Nintendo) {2020.09.18} (¥6.480) - 32.993 / 525.613 <80-100%> (-11%)\n",
      "11./12. [NSW] Splatoon 2 # <ACT> (Nintendo) {2017.07.21} (¥5.980) - 29.874 / 3.718.263 <80-100%> (-7%)\n",
      "12./13. [NSW] Pokemon Sword / Shield # <RPG> (Pokemon Co.) {2019.11.15} (¥5.980) - 26.717 / 3.907.307 <80-100%> (-6%)\n",
      "13./11. [NSW] Pokemon Sword / Shield + Expansion Pass <RPG> (Pokemon Co.) {2020.11.06} (¥8.689) - 23.825 / 172.123 <80-100%> (-27%)\n",
      "14./15. [NSW] New Super Mario Bros. U Deluxe <New Super Mario Bros. U \\ New Super Luigi U> <ACT> (Nintendo) {2019.01.11} (¥5.980) - 21.634 / 1.005.492 <80-100%> (+9%)\n",
      "15./18. [NSW] Sakuna: Of Rice and Ruin # <SLG> (Marvelous) {2020.11.12} (¥4.980) - 15.849 / 100.663 <80-100%> (+10%)\n",
      "16./14. [NSW] Hyrule Warriors: Age of Calamity # <ACT> (Koei Tecmo) {2020.11.20} (¥7.200) - 14.843 / 319.806 <80-100%> (-44%)\n",
      "17./17. [NSW] Puyo Puyo Tetris 2 <PZL> (Sega) {2020.12.10} (¥4.990) - 14.452 / 70.858 <60-80%> (-11%)\n",
      "18./28. [NSW] Super Mario Odyssey # <ACT> (Nintendo) {2017.10.27} (¥5.980) - 14.401 / 2.190.446 <80-100%> (+50%)\n",
      "19./16. [NSW] Super Mario Maker 2 # <ACT> (Nintendo) {2019.06.28} (¥5.980) - 14.208 / 1.049.089 <80-100%> (-16%)\n",
      "20./19. [NSW] The Legend of Zelda: Breath of the Wild # <ADV> (Nintendo) {2017.03.03} (¥6.980) - 13.609 / 1.741.646 <80-100%> (-2%)\n",
      "21./21. [NSW] Fishing Spirits: Nintendo Switch Version # <SPT> (Bandai Namco Entertainment) {2019.07.25} (¥5.700) - 10.891 / 555.358 <80-100%> (-14%)\n",
      "22./22. [NSW] Human: Fall Flat <ADV> (Teyon Japan) {2020.06.25} (¥3.500) - 10.274 / 97.714 <80-100%> (-18%)\n",
      "23./29. [NSW] Luigi's Mansion 3 <ACT> (Nintendo) {2019.10.31} (¥5.980) - 9.552 / 734.523 <80-100%> (+1%)\n",
      "24./00. [NSW] Derby Stallion <SLG> (Game Addict) {2020.12.03} (¥7.800) - 9.425 / 117.995 <80-100%> (+15%)\n",
      "25./00. [NSW] Fitness Boxing 2: Rhythm & Exercise <HOB> (Imagineer) {2020.12.03} (¥5.800) - 9.304 / 42.099 <60-80%>\n",
      "26./00. [NSW] Dragon Quest XI S: Echoes of an Elusive Age - Definitive Edition [New Price Edition] <RPG> (Square Enix) {2020.12.04} (¥4.980) - 8.624 / 42.063 <60-80%>\n",
      "27./20. [NSW] Taiko no Tatsujin: Rhythmic Adventure Pack <Taiko no Tatsujin: Don and Katsu's Great Time Adventure \\ Taiko no Tatsujin: Dokodon! Mystery Adventure> <ACT> (Bandai Namco Entertainment) {2020.11.26} (¥6.100) - 8.525 / 61.146 <60-80%> (-33%)\n",
      "28./00. [NSW] Mario & Sonic at the Olympic Games: Tokyo 2020 <SPT> (Sega) {2019.11.01} (¥5.990) - 7.696 / 370.235 <80-100%>\n",
      "29./00. [NSW] Dr. Kawashima's Brain Training for Nintendo Switch <HOB> (Nintendo) {2019.12.27} (¥3.480) - 7.496 / 351.237 <80-100%>\n",
      "30./00. [PS4] Call of Duty: Black Ops - Cold War <ACT> (Sony Interactive Entertainment) {2020.11.13} (¥7.900) - 7.002 / 157.966 <80-100%>\n",
      "\n",
      "Top 30\n",
      "\n",
      "NSW - 29\n",
      "PS4 - 1\n",
      "\n",
      "HARDWARE\n",
      "\n",
      "\n",
      "Code:\n",
      "\n",
      "\n",
      "+-------+------------+------------+------------+------------+------------+-------------+\n",
      "|System |  This Week |  Last Week |  Last Year |     YTD    |  Last YTD  |     LTD     |\n",
      "+-------+------------+------------+------------+------------+------------+-------------+\n",
      "| NSW # |    312.121 |    278.173 |    284.827 |    312.121 |    284.827 |  17.652.495 |\n",
      "| PS4 # |     17.876 |     12.718 |     58.244 |     17.876 |     58.244 |   9.308.766 |\n",
      "| PS5 # |     10.632 |     13.188 |            |     10.632 |            |     265.782 |\n",
      "| 3DS # |        714 |        658 |      4.030 |        714 |      4.030 |  24.559.622 |\n",
      "| XBS # |        134 |        205 |            |        134 |            |      31.558 |\n",
      "+-------+------------+------------+------------+------------+------------+-------------+\n",
      "|  ALL  |    341.477 |    304.942 |    347.213 |    341.477 |    347.213 |  51.818.223 |\n",
      "+-------+------------+------------+------------+------------+------------+-------------+\n",
      "|  PS5  |      7.606 |     10.523 |            |      7.606 |            |     214.228 |\n",
      "|PS5 Dig|      3.026 |      2.665 |            |      3.026 |            |      51.554 |\n",
      "| XBS X |         98 |        177 |            |         98 |            |      24.974 |\n",
      "| XBS S |         36 |         28 |            |         36 |            |       6.584 |\n",
      "| NSW L |     67.436 |     55.807 |    107.399 |     67.436 |    107.399 |   3.139.528 |\n",
      "|  NSW  |    244.685 |    222.366 |    177.428 |    244.685 |    177.428 |  14.512.967 |\n",
      "+-------+------------+------------+------------+------------+------------+-------------+\n",
      "\n",
      "Media Create / Famitsu database\n",
      "version 1.0.1 (2016 update) <-download it here\n",
      "\n",
      "Previous Threads\n",
      "2017 | 2018 | 2019 | 2020\n",
      "\n",
      "Media Create Sales: Week 52, 2020 (Dec 21 - Dec 27)\n"
     ]
    }
   ],
   "source": [
    "ustitles = requests.get(url_tab)\n",
    "soup = BeautifulSoup(ustitles.text)\n",
    "aa=soup.findAll(\"div\", {\"class\": \"bbWrapper\"})\n",
    "print(aa[0].text)"
   ]
  },
  {
   "cell_type": "code",
   "execution_count": 5,
   "metadata": {},
   "outputs": [
    {
     "data": {
      "text/plain": [
       "['01./01. [NSW] Momotaro Dentetsu: Showa, Heisei, Reiwa mo Teiban! <TBL> (Konami) {2020.11.19} (¥6.300) - 190.427 / 1.423.450 <80-100%> (-29%)',\n",
       " '02./02. [NSW] Animal Crossing: New Horizons<ETC> (Nintendo) {2020.03.20} (¥5.980) - 94.382 / 6.472.485 <80-100%> (-12%)',\n",
       " '03./03. [NSW] Mario Kart 8 Deluxe <RCE> (Nintendo) {2017.04.28} (¥5.980) - 83.853 / 3.541.036 <80-100%> (+23%)',\n",
       " '04./04. [NSW] Ring Fit Adventure<HOB> (Nintendo) {2019.10.18} (¥7.980) - 70.714 / 2.157.719 <80-100%> (+21%)',\n",
       " '05./06. [NSW] Super Smash Bros. Ultimate<FTG> (Nintendo) {2018.12.07} (¥7.200) - 54.865 / 4.068.039 <80-100%> (+3%)',\n",
       " '06./09. [NSW] Clubhouse Games: 51 Worldwide Classics <TBL> (Nintendo) {2020.06.05} (¥3.980) - 45.354 / 565.003 <80-100%> (+14%)',\n",
       " '07./08. [NSW] Super Mario Party<ETC> (Nintendo) {2018.10.05} (¥5.980) - 44.867 / 1.774.663 <80-100%> (+7%)',\n",
       " '08./07. [NSW] Minecraft<ADV> (Microsoft Game Studios) {2018.06.21} (¥3.600) - 37.530 / 1.740.451 <80-100%> (-23%)',\n",
       " '09./05. [NSW] Pikmin 3 Deluxe <ACT> (Nintendo) {2020.10.30} (¥5.980) - 36.350 / 499.156 <80-100%> (-34%)',\n",
       " '10./10. [NSW] Super Mario 3D All-Stars <Super Mario 64 \\\\ Super Mario Sunshine \\\\ Super Mario Galaxy> <ACT> (Nintendo) {2020.09.18} (¥6.480) - 32.993 / 525.613 <80-100%> (-11%)',\n",
       " '11./12. [NSW] Splatoon 2<ACT> (Nintendo) {2017.07.21} (¥5.980) - 29.874 / 3.718.263 <80-100%> (-7%)',\n",
       " '12./13. [NSW] Pokemon Sword / Shield<RPG> (Pokemon Co.) {2019.11.15} (¥5.980) - 26.717 / 3.907.307 <80-100%> (-6%)',\n",
       " '13./11. [NSW] Pokemon Sword / Shield + Expansion Pass <RPG> (Pokemon Co.) {2020.11.06} (¥8.689) - 23.825 / 172.123 <80-100%> (-27%)',\n",
       " '14./15. [NSW] New Super Mario Bros. U Deluxe <New Super Mario Bros. U \\\\ New Super Luigi U> <ACT> (Nintendo) {2019.01.11} (¥5.980) - 21.634 / 1.005.492 <80-100%> (+9%)',\n",
       " '15./18. [NSW] Sakuna: Of Rice and Ruin<SLG> (Marvelous) {2020.11.12} (¥4.980) - 15.849 / 100.663 <80-100%> (+10%)',\n",
       " '16./14. [NSW] Hyrule Warriors: Age of Calamity<ACT> (Koei Tecmo) {2020.11.20} (¥7.200) - 14.843 / 319.806 <80-100%> (-44%)',\n",
       " '17./17. [NSW] Puyo Puyo Tetris 2 <PZL> (Sega) {2020.12.10} (¥4.990) - 14.452 / 70.858 <60-80%> (-11%)',\n",
       " '18./28. [NSW] Super Mario Odyssey<ACT> (Nintendo) {2017.10.27} (¥5.980) - 14.401 / 2.190.446 <80-100%> (+50%)',\n",
       " '19./16. [NSW] Super Mario Maker 2<ACT> (Nintendo) {2019.06.28} (¥5.980) - 14.208 / 1.049.089 <80-100%> (-16%)',\n",
       " '20./19. [NSW] The Legend of Zelda: Breath of the Wild<ADV> (Nintendo) {2017.03.03} (¥6.980) - 13.609 / 1.741.646 <80-100%> (-2%)',\n",
       " '21./21. [NSW] Fishing Spirits: Nintendo Switch Version<SPT> (Bandai Namco Entertainment) {2019.07.25} (¥5.700) - 10.891 / 555.358 <80-100%> (-14%)',\n",
       " '22./22. [NSW] Human: Fall Flat <ADV> (Teyon Japan) {2020.06.25} (¥3.500) - 10.274 / 97.714 <80-100%> (-18%)',\n",
       " \"23./29. [NSW] Luigi's Mansion 3 <ACT> (Nintendo) {2019.10.31} (¥5.980) - 9.552 / 734.523 <80-100%> (+1%)\",\n",
       " '24./00. [NSW] Derby Stallion <SLG> (Game Addict) {2020.12.03} (¥7.800) - 9.425 / 117.995 <80-100%> (+15%)',\n",
       " '25./00. [NSW] Fitness Boxing 2: Rhythm & Exercise <HOB> (Imagineer) {2020.12.03} (¥5.800) - 9.304 / 42.099 <60-80%>',\n",
       " '26./00. [NSW] Dragon Quest XI S: Echoes of an Elusive Age - Definitive Edition [New Price Edition] <RPG> (Square Enix) {2020.12.04} (¥4.980) - 8.624 / 42.063 <60-80%>',\n",
       " \"27./20. [NSW] Taiko no Tatsujin: Rhythmic Adventure Pack <Taiko no Tatsujin: Don and Katsu's Great Time Adventure \\\\ Taiko no Tatsujin: Dokodon! Mystery Adventure> <ACT> (Bandai Namco Entertainment) {2020.11.26} (¥6.100) - 8.525 / 61.146 <60-80%> (-33%)\",\n",
       " '28./00. [NSW] Mario & Sonic at the Olympic Games: Tokyo 2020 <SPT> (Sega) {2019.11.01} (¥5.990) - 7.696 / 370.235 <80-100%>',\n",
       " \"29./00. [NSW] Dr. Kawashima's Brain Training for Nintendo Switch <HOB> (Nintendo) {2019.12.27} (¥3.480) - 7.496 / 351.237 <80-100%>\",\n",
       " '30./00. [PS4] Call of Duty: Black Ops - Cold War <ACT> (Sony Interactive Entertainment) {2020.11.13} (¥7.900) - 7.002 / 157.966 <80-100%>']"
      ]
     },
     "execution_count": 5,
     "metadata": {},
     "output_type": "execute_result"
    }
   ],
   "source": [
    "tab_top=aa[0].text.split(\"Famitsu Sales: Week\")[1]\n",
    "#tab_top=tab_top.replace(\"[\",\"###\").replace(\"]\",\"###\").replace(\"<\",\"###\").replace(\"./\",\"###\")\n",
    "#tab_top=tab_top.replace(\">\",\"/\").replace(\"(\",\"###\").replace(\")\",\"###\").replace(\"{\",\"###\").replace(\"}\",\"###\")\n",
    "tab_top=tab_top.replace(\" # \",\"\").split(\"\\n\")\n",
    "#re.split('; |, |\\*|\\n',a)\n",
    "tab_top[2:32]"
   ]
  },
  {
   "cell_type": "code",
   "execution_count": 6,
   "metadata": {},
   "outputs": [
    {
     "data": {
      "text/plain": [
       "['01./01. [NSW] Momotaro Dentetsu: Showa, Heisei, Reiwa mo Teiban! <TBL> (Konami) {2020.11.19} (¥6.300) - 190.427 / 1.423.450 <80-100%> (-29%)',\n",
       " '02./02. [NSW] Animal Crossing: New Horizons<ETC> (Nintendo) {2020.03.20} (¥5.980) - 94.382 / 6.472.485 <80-100%> (-12%)',\n",
       " '03./03. [NSW] Mario Kart 8 Deluxe <RCE> (Nintendo) {2017.04.28} (¥5.980) - 83.853 / 3.541.036 <80-100%> (+23%)',\n",
       " '04./04. [NSW] Ring Fit Adventure<HOB> (Nintendo) {2019.10.18} (¥7.980) - 70.714 / 2.157.719 <80-100%> (+21%)',\n",
       " '05./06. [NSW] Super Smash Bros. Ultimate<FTG> (Nintendo) {2018.12.07} (¥7.200) - 54.865 / 4.068.039 <80-100%> (+3%)',\n",
       " '06./09. [NSW] Clubhouse Games: 51 Worldwide Classics <TBL> (Nintendo) {2020.06.05} (¥3.980) - 45.354 / 565.003 <80-100%> (+14%)',\n",
       " '07./08. [NSW] Super Mario Party<ETC> (Nintendo) {2018.10.05} (¥5.980) - 44.867 / 1.774.663 <80-100%> (+7%)',\n",
       " '08./07. [NSW] Minecraft<ADV> (Microsoft Game Studios) {2018.06.21} (¥3.600) - 37.530 / 1.740.451 <80-100%> (-23%)',\n",
       " '09./05. [NSW] Pikmin 3 Deluxe <ACT> (Nintendo) {2020.10.30} (¥5.980) - 36.350 / 499.156 <80-100%> (-34%)',\n",
       " '10./10. [NSW] Super Mario 3D All-Stars <Super Mario 64 \\\\ Super Mario Sunshine \\\\ Super Mario Galaxy> <ACT> (Nintendo) {2020.09.18} (¥6.480) - 32.993 / 525.613 <80-100%> (-11%)',\n",
       " '11./12. [NSW] Splatoon 2<ACT> (Nintendo) {2017.07.21} (¥5.980) - 29.874 / 3.718.263 <80-100%> (-7%)',\n",
       " '12./13. [NSW] Pokemon Sword / Shield<RPG> (Pokemon Co.) {2019.11.15} (¥5.980) - 26.717 / 3.907.307 <80-100%> (-6%)',\n",
       " '13./11. [NSW] Pokemon Sword / Shield + Expansion Pass <RPG> (Pokemon Co.) {2020.11.06} (¥8.689) - 23.825 / 172.123 <80-100%> (-27%)',\n",
       " '14./15. [NSW] New Super Mario Bros. U Deluxe <New Super Mario Bros. U \\\\ New Super Luigi U> <ACT> (Nintendo) {2019.01.11} (¥5.980) - 21.634 / 1.005.492 <80-100%> (+9%)',\n",
       " '15./18. [NSW] Sakuna: Of Rice and Ruin<SLG> (Marvelous) {2020.11.12} (¥4.980) - 15.849 / 100.663 <80-100%> (+10%)',\n",
       " '16./14. [NSW] Hyrule Warriors: Age of Calamity<ACT> (Koei Tecmo) {2020.11.20} (¥7.200) - 14.843 / 319.806 <80-100%> (-44%)',\n",
       " '17./17. [NSW] Puyo Puyo Tetris 2 <PZL> (Sega) {2020.12.10} (¥4.990) - 14.452 / 70.858 <60-80%> (-11%)',\n",
       " '18./28. [NSW] Super Mario Odyssey<ACT> (Nintendo) {2017.10.27} (¥5.980) - 14.401 / 2.190.446 <80-100%> (+50%)',\n",
       " '19./16. [NSW] Super Mario Maker 2<ACT> (Nintendo) {2019.06.28} (¥5.980) - 14.208 / 1.049.089 <80-100%> (-16%)',\n",
       " '20./19. [NSW] The Legend of Zelda: Breath of the Wild<ADV> (Nintendo) {2017.03.03} (¥6.980) - 13.609 / 1.741.646 <80-100%> (-2%)',\n",
       " '21./21. [NSW] Fishing Spirits: Nintendo Switch Version<SPT> (Bandai Namco Entertainment) {2019.07.25} (¥5.700) - 10.891 / 555.358 <80-100%> (-14%)',\n",
       " '22./22. [NSW] Human: Fall Flat <ADV> (Teyon Japan) {2020.06.25} (¥3.500) - 10.274 / 97.714 <80-100%> (-18%)',\n",
       " \"23./29. [NSW] Luigi's Mansion 3 <ACT> (Nintendo) {2019.10.31} (¥5.980) - 9.552 / 734.523 <80-100%> (+1%)\",\n",
       " '24./00. [NSW] Derby Stallion <SLG> (Game Addict) {2020.12.03} (¥7.800) - 9.425 / 117.995 <80-100%> (+15%)',\n",
       " '25./00. [NSW] Fitness Boxing 2: Rhythm & Exercise <HOB> (Imagineer) {2020.12.03} (¥5.800) - 9.304 / 42.099 <60-80%>',\n",
       " '26./00. [NSW] Dragon Quest XI S: Echoes of an Elusive Age - Definitive Edition [New Price Edition] <RPG> (Square Enix) {2020.12.04} (¥4.980) - 8.624 / 42.063 <60-80%>',\n",
       " \"27./20. [NSW] Taiko no Tatsujin: Rhythmic Adventure Pack <Taiko no Tatsujin: Don and Katsu's Great Time Adventure \\\\ Taiko no Tatsujin: Dokodon! Mystery Adventure> <ACT> (Bandai Namco Entertainment) {2020.11.26} (¥6.100) - 8.525 / 61.146 <60-80%> (-33%)\",\n",
       " '28./00. [NSW] Mario & Sonic at the Olympic Games: Tokyo 2020 <SPT> (Sega) {2019.11.01} (¥5.990) - 7.696 / 370.235 <80-100%>',\n",
       " \"29./00. [NSW] Dr. Kawashima's Brain Training for Nintendo Switch <HOB> (Nintendo) {2019.12.27} (¥3.480) - 7.496 / 351.237 <80-100%>\",\n",
       " '30./00. [PS4] Call of Duty: Black Ops - Cold War <ACT> (Sony Interactive Entertainment) {2020.11.13} (¥7.900) - 7.002 / 157.966 <80-100%>']"
      ]
     },
     "execution_count": 6,
     "metadata": {},
     "output_type": "execute_result"
    }
   ],
   "source": [
    "clean_tab=tab_top[2:32]\n",
    "clean_tab"
   ]
  },
  {
   "cell_type": "code",
   "execution_count": 7,
   "metadata": {},
   "outputs": [],
   "source": [
    "clean_tab=tab_top[2:32]\n",
    "for i in range(len(clean_tab)):\n",
    "    temp = clean_tab[0].split(\"-\",1)\n",
    "    \n",
    "#>>> '-'.join(sentence)\n",
    "#'this-is-a-sentence'"
   ]
  },
  {
   "cell_type": "code",
   "execution_count": 8,
   "metadata": {},
   "outputs": [],
   "source": [
    "def flatten_list(x):\n",
    "    flat_list = []\n",
    "    for el in x:\n",
    "        if type(el) != list:\n",
    "            flat_list.append(el)\n",
    "        else:\n",
    "            for el2 in el:\n",
    "                flat_list.append(el2)\n",
    "    return flat_list"
   ]
  },
  {
   "cell_type": "code",
   "execution_count": 9,
   "metadata": {},
   "outputs": [
    {
     "data": {
      "text/plain": [
       "['01.',\n",
       " '01. ',\n",
       " 'NSW',\n",
       " ' Momotaro Dentetsu: Showa, Heisei, Reiwa mo Teiban! <TBL> (Konami) {2020.11.19} (¥6.300) - 190.427 / 1.423.450 <80-100%> (-29%)']"
      ]
     },
     "execution_count": 9,
     "metadata": {},
     "output_type": "execute_result"
    }
   ],
   "source": [
    "temp=clean_tab[0].split(\"/\",1)\n",
    "#temp[0]=float(temp[0])\n",
    "temp[-1]=temp[-1].split(\"[\",1)\n",
    "temp=flatten_list(temp)\n",
    "temp[-1]=temp[-1].split(\"]\",1)\n",
    "temp=flatten_list(temp)\n",
    "temp"
   ]
  },
  {
   "cell_type": "code",
   "execution_count": 10,
   "metadata": {},
   "outputs": [],
   "source": []
  },
  {
   "cell_type": "code",
   "execution_count": null,
   "metadata": {},
   "outputs": [],
   "source": []
  },
  {
   "cell_type": "code",
   "execution_count": null,
   "metadata": {},
   "outputs": [],
   "source": []
  },
  {
   "cell_type": "code",
   "execution_count": null,
   "metadata": {},
   "outputs": [],
   "source": []
  },
  {
   "cell_type": "code",
   "execution_count": null,
   "metadata": {},
   "outputs": [],
   "source": []
  },
  {
   "cell_type": "code",
   "execution_count": null,
   "metadata": {},
   "outputs": [],
   "source": []
  },
  {
   "cell_type": "code",
   "execution_count": null,
   "metadata": {},
   "outputs": [],
   "source": []
  },
  {
   "cell_type": "code",
   "execution_count": null,
   "metadata": {},
   "outputs": [],
   "source": []
  },
  {
   "cell_type": "code",
   "execution_count": null,
   "metadata": {},
   "outputs": [],
   "source": []
  },
  {
   "cell_type": "code",
   "execution_count": null,
   "metadata": {},
   "outputs": [],
   "source": [
    "# https://www.neogaf.com/threads/media-create-sales-archive-thread-2.416253/#post-147729422"
   ]
  },
  {
   "cell_type": "code",
   "execution_count": null,
   "metadata": {},
   "outputs": [],
   "source": [
    "url=\"https://www.resetera.com/threads/media-create-sales-archive-thread.4115/\"\n",
    "ustitles = requests.get(url)\n",
    "soup = BeautifulSoup(ustitles.text)\n",
    "links=soup.findAll(\"a\", {\"class\": \"link link--internal\"})  #class=\"link link--internal\" "
   ]
  },
  {
   "cell_type": "code",
   "execution_count": null,
   "metadata": {},
   "outputs": [],
   "source": []
  },
  {
   "cell_type": "code",
   "execution_count": null,
   "metadata": {},
   "outputs": [],
   "source": []
  },
  {
   "cell_type": "code",
   "execution_count": null,
   "metadata": {},
   "outputs": [],
   "source": []
  },
  {
   "cell_type": "code",
   "execution_count": null,
   "metadata": {},
   "outputs": [],
   "source": []
  },
  {
   "cell_type": "code",
   "execution_count": null,
   "metadata": {},
   "outputs": [],
   "source": []
  },
  {
   "cell_type": "code",
   "execution_count": null,
   "metadata": {},
   "outputs": [],
   "source": []
  },
  {
   "cell_type": "code",
   "execution_count": null,
   "metadata": {},
   "outputs": [],
   "source": []
  },
  {
   "cell_type": "code",
   "execution_count": null,
   "metadata": {},
   "outputs": [],
   "source": []
  },
  {
   "cell_type": "code",
   "execution_count": null,
   "metadata": {},
   "outputs": [],
   "source": []
  },
  {
   "cell_type": "code",
   "execution_count": null,
   "metadata": {},
   "outputs": [],
   "source": []
  },
  {
   "cell_type": "code",
   "execution_count": null,
   "metadata": {},
   "outputs": [],
   "source": []
  }
 ],
 "metadata": {
  "kernelspec": {
   "display_name": "Python 3",
   "language": "python",
   "name": "python3"
  },
  "language_info": {
   "codemirror_mode": {
    "name": "ipython",
    "version": 3
   },
   "file_extension": ".py",
   "mimetype": "text/x-python",
   "name": "python",
   "nbconvert_exporter": "python",
   "pygments_lexer": "ipython3",
   "version": "3.8.3"
  }
 },
 "nbformat": 4,
 "nbformat_minor": 4
}
