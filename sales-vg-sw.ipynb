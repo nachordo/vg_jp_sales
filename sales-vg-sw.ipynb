{
 "cells": [
  {
   "cell_type": "code",
   "execution_count": 1,
   "metadata": {},
   "outputs": [],
   "source": [
    "from bs4 import BeautifulSoup\n",
    "import requests\n",
    "import pandas as pd\n",
    "import re"
   ]
  },
  {
   "cell_type": "code",
   "execution_count": null,
   "metadata": {},
   "outputs": [],
   "source": []
  },
  {
   "cell_type": "code",
   "execution_count": 12,
   "metadata": {},
   "outputs": [],
   "source": [
    "url_tab = 'https://www.resetera.com/threads/media-create-sales-week-53-2020-dec-28-jan-03.356956/'\n",
    "url_tab = 'https://www.resetera.com/threads/media-create-sales-week-46-2018-nov-12-nov-18.82357/'"
   ]
  },
  {
   "cell_type": "code",
   "execution_count": 13,
   "metadata": {},
   "outputs": [
    {
     "name": "stdout",
     "output_type": "stream",
     "text": [
      " \n",
      "Media Create Sales: Week 46, 2018 (Nov 12 - Nov 18) \n",
      "\n",
      "01./00.  [NSW] Pokemon: Let's Go, Pikachu! / Let's Go, Eevee! # <RPG> (Pokemon Co.) {2018.11.16} (¥5.980) - 661.240 / NEW \n",
      "02./00.  [PS4] Fallout 76 # <RPG> (Bethesda Softworks) {2018.11.15} (¥7.980) - 73.489 / NEW \n",
      "03./03. [NSW] Super Mario Party <ETC> (Nintendo) {2018.10.05} (¥5.980) - 20.942 / 345.627 (-10%)\n",
      "04./02. [PS4] Call of Duty: Black Ops IIII <ACT> (Sony Interactive Entertainment) {2018.10.12} (¥7.900) - 17.159 / 460.890 (-33%)\n",
      "05./00.  [PS4] Hitman 2 <ADV> (Warner Entertainment Japan) {2018.11.15} (¥7.800) - 10.162 / NEW \n",
      "06./01. [3DS] Luigi's Mansion <ACT> (Nintendo) {2018.11.08} (¥4.980) - 9.320 / 36.689 (-66%)\n",
      "07./05. [NSW] Mario Kart 8 Deluxe <RCE> (Nintendo) {2017.04.28} (¥5.980) - 9.319 / 1.836.063 (+10%)\n",
      "08./04. [PS4] Red Dead Redemption II # <ACT> (Take-Two Interactive Japan) {2018.10.26} (¥8.800) - 8.120 / 192.181 (-52%)\n",
      "09./07. [NSW] Splatoon 2 # <ACT> (Nintendo) {2017.07.21} (¥5.980) - 7.992 / 2.698.886 (+18%)\n",
      "10./06. [NSW] Minecraft <ADV> (Microsoft Game Studios) {2018.06.21} (¥3.600) - 7.449 / 365.347 (-1%)\n",
      "11./08. [NSW] The Legend of Zelda: Breath of the Wild # <ADV> (Nintendo) {2017.03.03} (¥6.980) - 6.215 / 1.159.398 (+9%)\n",
      "12./00.  [PS4] Yuuna and the Haunted Hot Springs: Steam Dungeon # <RPG> (FuRyu) {2018.11.15} (¥7.980) - 5.025 / NEW \n",
      "13./10. [NSW] Super Mario Odyssey # <ACT> (Nintendo) {2017.10.27} (¥5.980) - 3.990 / 1.845.682 (+6%)\n",
      "14./12. [3DS] Pokemon Ultra Sun / Ultra Moon <RPG> (Pokemon Co.) {2017.11.17} (¥4.980) - 3.493 / 1.760.304 (+4%)\n",
      "15./11. [PS4] Marvel's Spider-Man # <ADV> (Sony Interactive Entertainment) {2018.09.07} (¥6.900) - 3.134 / 305.030 (-17%)\n",
      "16./14. [NSW] Kirby Star Allies <ACT> (Nintendo) {2018.03.16} (¥5.980) - 2.958 / 642.205 (+0%)\n",
      "17./00.  [NSW] RPG Maker MV Trinity <ETC> (Kadokawa Games) {2018.11.15} (¥7.800) - 2.641 / NEW \n",
      "18./16. [NSW] Taiko no Tatsujin: Drum 'n' Fun! <ACT> (Bandai Namco Games) {2018.07.19} (¥6.100) - 2.181 / 225.417 (-12%)\n",
      "19./00.  [PS4] RPG Maker MV Trinity <ETC> (Kadokawa Games) {2018.11.15} (¥7.800) - 2.090 / NEW \n",
      "20./00.  [PSV] Shiro to Kuro no Alice: Twilight Line # <ADV> (Idea Factory) {2018.11.15} (¥6.300) - 2.087 / NEW \n",
      "21./21. [NSW] Mario Tennis Aces <SPT> (Nintendo) {2018.06.22} (¥5.980) \n",
      "22./15. [PS4] Assassin's Creed: Odyssey # <RPG> (Ubisoft) {2018.10.05} (¥8.400) \n",
      "23./22. [3DS] Animal Crossing: New Leaf - Welcome amiibo # <ETC> (Nintendo) {2016.11.23} (¥2.700) \n",
      "24./23. [PS4] Winning Eleven 2019 <SPT> (Konami) {2018.08.30} (¥7.600) \n",
      "25./17. [NSW] Cats Together <ETC> (Bandai Namco Games) {2018.11.01} (¥5.700) \n",
      "26./19. [PS4] Kingdom Hearts HD I.5 + II.5 ReMIX <Kingdom Hearts HD I.5 ReMIX <Kingdom Hearts \\ Kingdom Hearts Re:Chain of Memories> \\ Kingdom Hearts HD II.5 ReMIX <Kingdom Hearts II \\ Kingdom Hearts II: Final Mix+ \\ Kingdom Hearts: Birth by Sleep>> <RPG> (Square Enix) {2017.03.09} (¥6.800) \n",
      "27./25. [NSW] Captain Toad: Treasure Tracker <ADV> (Nintendo) {2018.07.13} (¥3.980) \n",
      "28./30. [NSW] FIFA 19 # <SPT> (Electronic Arts) {2018.09.28} (¥5.800) \n",
      "29./26. [NSW] Nintendo Labo Toy-Con 03: Drive Kit <EDU> (Nintendo) {2018.09.14} (¥6.980) \n",
      "30./18. [PS4] Warriors Orochi 4 # <ACT> (Koei Tecmo) {2018.09.27} (¥7.800) \n",
      "31./27. [NSW] Dragon Ball FighterZ <FTG> (Bandai Namco Games) {2018.09.27} (¥6.800) \n",
      "32./24. [PS4] The Legend of Heroes: Trails of Cold Steel IV - The End of Saga # <RPG> (Nihon Falcom) {2018.09.27} (¥7.800) \n",
      "33./31. [3DS] WarioWare Gold <ETC> (Nintendo) {2018.08.02} (¥4.980) \n",
      "34./35. [NSW] Pro Baseball Famista Evolution <SPT> (Bandai Namco Games) {2018.08.02} (¥6.100) \n",
      "35./28. [PS4] FIFA 19 # <SPT> (Electronic Arts) {2018.09.28} (¥7.800) \n",
      "36./00.  [NSW] Legendary Fishing <SPT> (Ubisoft) {2018.11.15} (¥4.800) \n",
      "37./09. [PS4] Tetris Effect <PZL> (Sony Interactive Entertainment) {2018.11.09} (¥4.167) \n",
      "38./29. [NSW] Dark Souls Remastered <Dark Souls \\ Dark Souls: Artorias of the Abyss> <RPG> (From Software) {2018.10.18} (¥4.800) \n",
      "39./38. [3DS] Mario Kart 7 # <RCE> (Nintendo) {2011.12.01} (¥4.571) \n",
      "40./00.  [NSW] Monster Hunter Generations Ultimate [Best Price] <ACT> (Capcom) {2018.11.15} (¥3.990) \n",
      "41./39. [NSW] Sumikko Gurashi: Atsumare! Sumikko Town <ETC> (Nippon Columbia) {2018.10.04} (¥5.800) \n",
      "42./20. [PS4] Soul Calibur VI <FTG> (Bandai Namco Games) {2018.10.18} (¥7.600) \n",
      "43./37. [3DS] Captain Toad: Treasure Tracker <ADV> (Nintendo) {2018.07.13} (¥3.980) \n",
      "44./47. [NSW] Pokken Tournament DX <FTG> (Pokemon Co.) {2017.09.22} (¥5.980) \n",
      "45./36. [PS4] Gran Turismo Sport # <RCE> (Sony Interactive Entertainment) {2017.10.19} (¥6.900) \n",
      "46./00. [PS4] Street Fighter 30th Anniversary Collection <Street Fighter \\ Street Fighter II \\ Street Fighter II: Champion Edition \\ Street Fighter II: Hyper Fighting \\ Super Street Fighter II \\ Super Street Fighter II Turbo \\ Street Fighter Alpha \\ Street Fighter Alpha 2 \\ Street Fighter Alpha 3 \\ Street Fighter III \\ Street Fighter III: 2nd Impact \\ Street Fighter III: 3rd Strike> # <FTG> (Capcom) {2018.10.25} (¥4.990) \n",
      "47./33. [NSW] Nintendo Labo Toy-Con 01: Variety Kit <EDU> (Nintendo) {2018.04.20} (¥6.980) \n",
      "48./40. [NSW] Warriors Orochi 4 # <ACT> (Koei Tecmo) {2018.09.27} (¥7.800) \n",
      "49./49. [3DS] Mario Party: The Top 100 <ETC> (Nintendo) {2017.12.28} (¥4.980) \n",
      "50./13. [PS4] Deracine |PlayStation VR| # <ADV> (Sony Interactive Entertainment) {2018.11.08} (¥3.000) \n",
      "\n",
      " Top 50 \n",
      "\n",
      "NSW - 24\n",
      "PS4 - 18\n",
      "3DS - 7\n",
      "PSV - 1\n",
      "\n",
      " SOFTWARE \n",
      "\n",
      "\n",
      "Code:\n",
      "\n",
      "\n",
      "+-------+------------+------------+------------+------------+------------+\n",
      "|System |  This Week |  Last Week |  Last Year |     YTD    |  Last YTD  |\n",
      "+-------+------------+------------+------------+------------+------------+\n",
      "|  ALL  |    959.000 |    259.000 |  1.345.000 | 21.524.000 | 26.051.000 |\n",
      "+-------+------------+------------+------------+------------+------------+\n",
      "\n",
      "HARDWARE\n",
      "\n",
      "\n",
      "Code:\n",
      "\n",
      "\n",
      "+-------+------------+------------+------------+------------+------------+-------------+\n",
      "|System |  This Week |  Last Week |  Last Year |     YTD    |  Last YTD  |     LTD     |\n",
      "+-------+------------+------------+------------+------------+------------+-------------+\n",
      "|  NSW  |    200.850 |     54.235 |     86.999 |  2.289.338 |  2.252.328 |   5.601.957 |\n",
      "| PS4 # |     17.789 |     16.081 |     26.302 |  1.376.944 |  1.465.880 |   7.269.347 |\n",
      "| 3DS # |      6.599 |      6.218 |     43.480 |    440.648 |  1.372.373 |  24.263.427 |\n",
      "| PSV # |      1.877 |      1.869 |      3.090 |    161.598 |    293.179 |   5.949.478 |\n",
      "| XB1 # |        164 |        406 |        247 |     13.345 |      8.071 |     101.781 |\n",
      "+-------+------------+------------+------------+------------+------------+-------------+\n",
      "|  ALL  |    227.279 |     78.809 |    160.207 |  4.281.873 |  5.427.250 |  43.185.990 |\n",
      "+-------+------------+------------+------------+------------+------------+-------------+\n",
      "| XB1 X |        119 |        360 |        143 |      8.953 |      1.487 |      11.127 |\n",
      "|  XB1  |         45 |         46 |        104 |      4.392 |      6.584 |      90.654 |\n",
      "|PS4 Pro|      8.867 |      7.927 |      8.176 |    382.143 |    302.708 |     922.449 |\n",
      "|  PS4  |      8.922 |      8.154 |     18.126 |    994.801 |  1.163.172 |   6.346.898 |\n",
      "|  PSV  |      1.877 |      1.869 |      3.090 |    161.598 |    293.179 |   5.764.027 |\n",
      "|n-2DSLL|      4.189 |      4.243 |     29.013 |    266.821 |    390.840 |     823.179 |\n",
      "|  2DS  |        622 |        294 |      3.113 |     31.326 |    181.821 |     525.549 |\n",
      "|n-3DSLL|      1.788 |      1.681 |     11.074 |    142.501 |    746.273 |   4.815.375 |\n",
      "+-------+------------+------------+------------+------------+------------+-------------+\n",
      "\n",
      "\n",
      " Famitsu Sales: Week 46, 2018 (Nov 12 - Nov 18) \n",
      "\n",
      "01./00.  [NSW] Pokemon: Let's Go, Pikachu! / Let's Go, Eevee! # <RPG> (Pokemon Co.) {2018.11.16} (¥5.980) - 664.198 / NEW <40-60%> \n",
      "02./00.  [PS4] Fallout 76 # <RPG> (Bethesda Softworks) {2018.11.15} (¥7.980) - 60.222 / NEW <60-80%> \n",
      "03./02. [NSW] Super Mario Party <ETC> (Nintendo) {2018.10.05} (¥5.980) - 17.486 / 326.510 <80-100%> (-15%)\n",
      "04./03. [PS4] Call of Duty: Black Ops IIII <ACT> (Sony Interactive Entertainment) {2018.10.12} (¥7.900) - 13.868 / 442.995 <80-100%> (-32%)\n",
      "05./01. [3DS] Luigi's Mansion <ACT> (Nintendo) {2018.11.08} (¥4.980) - 10.716 / 40.121 <40-60%> (-64%)\n",
      "06./00.  [PS4] Hitman 2 <ADV> (Warner Entertainment Japan) {2018.11.15} (¥7.800) - 10.688 / NEW <20-40%> \n",
      "07./05. [NSW] Mario Kart 8 Deluxe <RCE> (Nintendo) {2017.04.28} (¥5.980) - 9.948 / 1.849.467 <80-100%> (+14%)\n",
      "08./04. [PS4] Red Dead Redemption II # <ACT> (Take-Two Interactive Japan) {2018.10.26} (¥8.800) - 7.642 / 189.465 <80-100%> (-48%)\n",
      "09./06. [NSW] Minecraft <ADV> (Microsoft Game Studios) {2018.06.21} (¥3.600) - 7.504 / 366.272 <80-100%> (-2%)\n",
      "10./07. [NSW] Splatoon 2 # <ACT> (Nintendo) {2017.07.21} (¥5.980) - 7.482 / 2.736.533 <80-100%> (+11%)\n",
      "11./08. [NSW] The Legend of Zelda: Breath of the Wild # <ADV> (Nintendo) {2017.03.03} (¥6.980) - 5.463 / 1.121.636 <80-100%> (+12%)\n",
      "12./00.  [PS4] Yuuna and the Haunted Hot Springs: Steam Dungeon # <RPG> (FuRyu) {2018.11.15} (¥7.980) - 5.325 / NEW <40-60%> \n",
      "13./09. [3DS] Pokemon Ultra Sun / Ultra Moon # <RPG> (Pokemon Co.) {2017.11.17} (¥4.980) - 4.049 / 2.395.774 <80-100%> (+1%)\n",
      "14./10. [NSW] Super Mario Odyssey # <ACT> (Nintendo) {2017.10.27} (¥5.980) - 3.630 / 1.836.141 <80-100%> (-6%)\n",
      "15./00.  [PSV] Shiro to Kuro no Alice: Twilight Line # <ADV> (Idea Factory) {2018.11.15} (¥6.300) - 3.068 / NEW <40-60%> \n",
      "16./00.  [NSW] RPG Maker MV Trinity <ETC> (Kadokawa Games) {2018.11.15} (¥7.800) - 3.015 / NEW <20-40%> \n",
      "17./11. [PS4] Marvel's Spider-Man # <ADV> (Sony Interactive Entertainment) {2018.09.07} (¥6.900) - 2.849 / 294.847 <80-100%> (-13%)\n",
      "18./00.  [PS4] RPG Maker MV Trinity <ETC> (Kadokawa Games) {2018.11.15} (¥7.800) - 2.243 / NEW <20-40%> \n",
      "19./12. [NSW] Taiko no Tatsujin: Drum 'n' Fun! <ACT> (Bandai Namco Games) {2018.07.19} (¥6.100) - 2.188 / 224.930 <80-100%> (-5%)\n",
      "20./13. [NSW] Kirby Star Allies <ACT> (Nintendo) {2018.03.16} (¥5.980) - 2.049 / 619.949 <80-100%> (-4%)\n",
      "21./17. [PS4] Winning Eleven 2019 <SPT> (Konami) {2018.08.30} (¥7.600) - 1.841 / 137.378 <80-100%> (+3%)\n",
      "22./16. [PS4] Kingdom Hearts HD I.5 + II.5 ReMIX <Kingdom Hearts HD I.5 ReMIX <Kingdom Hearts \\ Kingdom Hearts Re:Chain of Memories> \\ Kingdom Hearts HD II.5 ReMIX <Kingdom Hearts II \\ Kingdom Hearts II: Final Mix+ \\ Kingdom Hearts: Birth by Sleep>> <RPG> (Square Enix) {2017.03.09} (¥6.800) - 1.728 / 215.144 <80-100%> (-12%)\n",
      "23./23. [NSW] Mario Tennis Aces <SPT> (Nintendo) {2018.06.22} (¥5.980) - 1.649 / 351.946 <80-100%> (+9%)\n",
      "24./22. [NSW] FIFA 19 # <SPT> (Electronic Arts) {2018.09.28} (¥5.800) - 1.524 / 36.375 <60-80%> (-6%)\n",
      "25./20. [PS4] FIFA 19 # <SPT> (Electronic Arts) {2018.09.28} (¥7.800) - 1.385 / 93.924 <80-100%> (-19%)\n",
      "26./25. [NSW] Dragon Ball FighterZ <FTG> (Bandai Namco Games) {2018.09.27} (¥6.800) - 1.254 / 44.146 <60-80%> (-13%)\n",
      "27./27. [3DS] Animal Crossing: New Leaf - Welcome amiibo # <ETC> (Nintendo) {2016.11.23} (¥2.700) - 1.239 / 407.238 <80-100%> (-3%)\n",
      "28./19. [PS4] Tetris Effect <PZL> (Sony Interactive Entertainment) {2018.11.09} (¥4.167) - 1.238 / 3.016 <20-40%> (-30%)\n",
      "29./14. [PS4] Assassin's Creed: Odyssey # <RPG> (Ubisoft) {2018.10.05} (¥8.400) - 1.237 / 83.996 <80-100%> (-39%)\n",
      "30./21. [NSW] Cats Together <ETC> (Bandai Namco Games) {2018.11.01} (¥5.700) - 1.202 / 5.979 <20-40%> (-26%)\n",
      "\n",
      " Top 30 \n",
      "\n",
      "NSW - 14\n",
      "PS4 - 12\n",
      "3DS - 3\n",
      "PSV - 1\n",
      "\n",
      "HARDWARE\n",
      "\n",
      "\n",
      "Code:\n",
      "\n",
      "\n",
      "+-------+------------+------------+------------+------------+------------+-------------+\n",
      "|System |  This Week |  Last Week |  Last Year |     YTD    |  Last YTD  |     LTD     |\n",
      "+-------+------------+------------+------------+------------+------------+-------------+\n",
      "|  NSW  |    180.585 |     53.385 |     90.303 |  2.210.304 |  2.280.094 |   5.617.462 |\n",
      "| PS4 # |     15.890 |     16.216 |     31.862 |  1.345.825 |  1.594.776 |   7.202.688 |\n",
      "| 3DS # |      6.056 |      6.041 |     40.582 |    481.959 |  1.538.817 |  24.220.503 |\n",
      "| PSV # |      1.818 |      1.668 |      2.716 |    167.213 |    347.156 |   5.810.839 |\n",
      "| XB1 # |        202 |        473 |        161 |     12.947 |      8.371 |     100.539 |\n",
      "+-------+------------+------------+------------+------------+------------+-------------+\n",
      "|  ALL  |    204.551 |     77.783 |    165.698 |  4.220.252 |  5.806.710 |  46.255.590 |\n",
      "+-------+------------+------------+------------+------------+------------+-------------+\n",
      "| XB1 X |        169 |        416 |         94 |      9.164 |      1.733 |      11.467 |\n",
      "| XB1 S |         33 |         57 |         67 |      3.783 |      1.856 |      17.070 |\n",
      "|PS4 Pro|      7.581 |      7.933 |      8.397 |    364.627 |    296.668 |     879.571 |\n",
      "|  PS4  |      8.309 |      8.283 |     23.465 |    981.198 |  1.298.108 |   6.323.117 |\n",
      "|  PSV  |      1.818 |      1.668 |      2.716 |    167.213 |    347.156 |   5.810.839 |\n",
      "|n-2DSLL|      3.719 |      3.724 |     28.004 |    300.123 |    405.149 |     887.674 |\n",
      "|  2DS  |        335 |        228 |      2.316 |     19.804 |    253.815 |     582.494 |\n",
      "| n-3DS |      2.002 |      2.089 |     10.262 |    162.032 |    879.853 |   5.830.058 |\n",
      "+-------+------------+------------+------------+------------+------------+-------------+\n",
      "\n",
      "Media Create / Famitsu database\n",
      "version 1.0.1 (2016 update) <-download it here\n",
      "\n",
      "Previous Threads\n",
      "2017 | 2018\n",
      "\n",
      "Media Create Sales: Week 45, 2018 (Nov 05 - Nov 11)\n"
     ]
    }
   ],
   "source": [
    "ustitles = requests.get(url_tab)\n",
    "soup = BeautifulSoup(ustitles.text)\n",
    "aa=soup.findAll(\"div\", {\"class\": \"bbWrapper\"})\n",
    "print(aa[0].text)"
   ]
  },
  {
   "cell_type": "code",
   "execution_count": 14,
   "metadata": {},
   "outputs": [
    {
     "data": {
      "text/plain": [
       "[\"01./00.  [NSW] Pokemon: Let's Go, Pikachu! / Let's Go, Eevee!<RPG> (Pokemon Co.) {2018.11.16} (¥5.980) - 664.198 / NEW <40-60%> \",\n",
       " '02./00.  [PS4] Fallout 76<RPG> (Bethesda Softworks) {2018.11.15} (¥7.980) - 60.222 / NEW <60-80%> ',\n",
       " '03./02. [NSW] Super Mario Party <ETC> (Nintendo) {2018.10.05} (¥5.980) - 17.486 / 326.510 <80-100%> (-15%)',\n",
       " '04./03. [PS4] Call of Duty: Black Ops IIII <ACT> (Sony Interactive Entertainment) {2018.10.12} (¥7.900) - 13.868 / 442.995 <80-100%> (-32%)',\n",
       " \"05./01. [3DS] Luigi's Mansion <ACT> (Nintendo) {2018.11.08} (¥4.980) - 10.716 / 40.121 <40-60%> (-64%)\",\n",
       " '06./00.  [PS4] Hitman 2 <ADV> (Warner Entertainment Japan) {2018.11.15} (¥7.800) - 10.688 / NEW <20-40%> ',\n",
       " '07./05. [NSW] Mario Kart 8 Deluxe <RCE> (Nintendo) {2017.04.28} (¥5.980) - 9.948 / 1.849.467 <80-100%> (+14%)',\n",
       " '08./04. [PS4] Red Dead Redemption II<ACT> (Take-Two Interactive Japan) {2018.10.26} (¥8.800) - 7.642 / 189.465 <80-100%> (-48%)',\n",
       " '09./06. [NSW] Minecraft <ADV> (Microsoft Game Studios) {2018.06.21} (¥3.600) - 7.504 / 366.272 <80-100%> (-2%)',\n",
       " '10./07. [NSW] Splatoon 2<ACT> (Nintendo) {2017.07.21} (¥5.980) - 7.482 / 2.736.533 <80-100%> (+11%)',\n",
       " '11./08. [NSW] The Legend of Zelda: Breath of the Wild<ADV> (Nintendo) {2017.03.03} (¥6.980) - 5.463 / 1.121.636 <80-100%> (+12%)',\n",
       " '12./00.  [PS4] Yuuna and the Haunted Hot Springs: Steam Dungeon<RPG> (FuRyu) {2018.11.15} (¥7.980) - 5.325 / NEW <40-60%> ',\n",
       " '13./09. [3DS] Pokemon Ultra Sun / Ultra Moon<RPG> (Pokemon Co.) {2017.11.17} (¥4.980) - 4.049 / 2.395.774 <80-100%> (+1%)',\n",
       " '14./10. [NSW] Super Mario Odyssey<ACT> (Nintendo) {2017.10.27} (¥5.980) - 3.630 / 1.836.141 <80-100%> (-6%)',\n",
       " '15./00.  [PSV] Shiro to Kuro no Alice: Twilight Line<ADV> (Idea Factory) {2018.11.15} (¥6.300) - 3.068 / NEW <40-60%> ',\n",
       " '16./00.  [NSW] RPG Maker MV Trinity <ETC> (Kadokawa Games) {2018.11.15} (¥7.800) - 3.015 / NEW <20-40%> ',\n",
       " \"17./11. [PS4] Marvel's Spider-Man<ADV> (Sony Interactive Entertainment) {2018.09.07} (¥6.900) - 2.849 / 294.847 <80-100%> (-13%)\",\n",
       " '18./00.  [PS4] RPG Maker MV Trinity <ETC> (Kadokawa Games) {2018.11.15} (¥7.800) - 2.243 / NEW <20-40%> ',\n",
       " \"19./12. [NSW] Taiko no Tatsujin: Drum 'n' Fun! <ACT> (Bandai Namco Games) {2018.07.19} (¥6.100) - 2.188 / 224.930 <80-100%> (-5%)\",\n",
       " '20./13. [NSW] Kirby Star Allies <ACT> (Nintendo) {2018.03.16} (¥5.980) - 2.049 / 619.949 <80-100%> (-4%)',\n",
       " '21./17. [PS4] Winning Eleven 2019 <SPT> (Konami) {2018.08.30} (¥7.600) - 1.841 / 137.378 <80-100%> (+3%)',\n",
       " '22./16. [PS4] Kingdom Hearts HD I.5 + II.5 ReMIX <Kingdom Hearts HD I.5 ReMIX <Kingdom Hearts \\\\ Kingdom Hearts Re:Chain of Memories> \\\\ Kingdom Hearts HD II.5 ReMIX <Kingdom Hearts II \\\\ Kingdom Hearts II: Final Mix+ \\\\ Kingdom Hearts: Birth by Sleep>> <RPG> (Square Enix) {2017.03.09} (¥6.800) - 1.728 / 215.144 <80-100%> (-12%)',\n",
       " '23./23. [NSW] Mario Tennis Aces <SPT> (Nintendo) {2018.06.22} (¥5.980) - 1.649 / 351.946 <80-100%> (+9%)',\n",
       " '24./22. [NSW] FIFA 19<SPT> (Electronic Arts) {2018.09.28} (¥5.800) - 1.524 / 36.375 <60-80%> (-6%)',\n",
       " '25./20. [PS4] FIFA 19<SPT> (Electronic Arts) {2018.09.28} (¥7.800) - 1.385 / 93.924 <80-100%> (-19%)',\n",
       " '26./25. [NSW] Dragon Ball FighterZ <FTG> (Bandai Namco Games) {2018.09.27} (¥6.800) - 1.254 / 44.146 <60-80%> (-13%)',\n",
       " '27./27. [3DS] Animal Crossing: New Leaf - Welcome amiibo<ETC> (Nintendo) {2016.11.23} (¥2.700) - 1.239 / 407.238 <80-100%> (-3%)',\n",
       " '28./19. [PS4] Tetris Effect <PZL> (Sony Interactive Entertainment) {2018.11.09} (¥4.167) - 1.238 / 3.016 <20-40%> (-30%)',\n",
       " \"29./14. [PS4] Assassin's Creed: Odyssey<RPG> (Ubisoft) {2018.10.05} (¥8.400) - 1.237 / 83.996 <80-100%> (-39%)\",\n",
       " '30./21. [NSW] Cats Together <ETC> (Bandai Namco Games) {2018.11.01} (¥5.700) - 1.202 / 5.979 <20-40%> (-26%)']"
      ]
     },
     "execution_count": 14,
     "metadata": {},
     "output_type": "execute_result"
    }
   ],
   "source": [
    "tab_top=aa[0].text.split(\"Famitsu Sales: Week\")[1]\n",
    "#tab_top=tab_top.replace(\"[\",\"###\").replace(\"]\",\"###\").replace(\"<\",\"###\").replace(\"./\",\"###\")\n",
    "#tab_top=tab_top.replace(\">\",\"/\").replace(\"(\",\"###\").replace(\")\",\"###\").replace(\"{\",\"###\").replace(\"}\",\"###\")\n",
    "tab_top=tab_top.replace(\" # \",\"\").split(\"\\n\")\n",
    "#re.split('; |, |\\*|\\n',a)\n",
    "tab_top[2:32]"
   ]
  },
  {
   "cell_type": "code",
   "execution_count": 15,
   "metadata": {},
   "outputs": [
    {
     "data": {
      "text/plain": [
       "[\"01./00.  [NSW] Pokemon: Let's Go, Pikachu! / Let's Go, Eevee!<RPG> (Pokemon Co.) {2018.11.16} (¥5.980) - 664.198 / NEW <40-60%> \",\n",
       " '02./00.  [PS4] Fallout 76<RPG> (Bethesda Softworks) {2018.11.15} (¥7.980) - 60.222 / NEW <60-80%> ',\n",
       " '03./02. [NSW] Super Mario Party <ETC> (Nintendo) {2018.10.05} (¥5.980) - 17.486 / 326.510 <80-100%> (-15%)',\n",
       " '04./03. [PS4] Call of Duty: Black Ops IIII <ACT> (Sony Interactive Entertainment) {2018.10.12} (¥7.900) - 13.868 / 442.995 <80-100%> (-32%)',\n",
       " \"05./01. [3DS] Luigi's Mansion <ACT> (Nintendo) {2018.11.08} (¥4.980) - 10.716 / 40.121 <40-60%> (-64%)\",\n",
       " '06./00.  [PS4] Hitman 2 <ADV> (Warner Entertainment Japan) {2018.11.15} (¥7.800) - 10.688 / NEW <20-40%> ',\n",
       " '07./05. [NSW] Mario Kart 8 Deluxe <RCE> (Nintendo) {2017.04.28} (¥5.980) - 9.948 / 1.849.467 <80-100%> (+14%)',\n",
       " '08./04. [PS4] Red Dead Redemption II<ACT> (Take-Two Interactive Japan) {2018.10.26} (¥8.800) - 7.642 / 189.465 <80-100%> (-48%)',\n",
       " '09./06. [NSW] Minecraft <ADV> (Microsoft Game Studios) {2018.06.21} (¥3.600) - 7.504 / 366.272 <80-100%> (-2%)',\n",
       " '10./07. [NSW] Splatoon 2<ACT> (Nintendo) {2017.07.21} (¥5.980) - 7.482 / 2.736.533 <80-100%> (+11%)',\n",
       " '11./08. [NSW] The Legend of Zelda: Breath of the Wild<ADV> (Nintendo) {2017.03.03} (¥6.980) - 5.463 / 1.121.636 <80-100%> (+12%)',\n",
       " '12./00.  [PS4] Yuuna and the Haunted Hot Springs: Steam Dungeon<RPG> (FuRyu) {2018.11.15} (¥7.980) - 5.325 / NEW <40-60%> ',\n",
       " '13./09. [3DS] Pokemon Ultra Sun / Ultra Moon<RPG> (Pokemon Co.) {2017.11.17} (¥4.980) - 4.049 / 2.395.774 <80-100%> (+1%)',\n",
       " '14./10. [NSW] Super Mario Odyssey<ACT> (Nintendo) {2017.10.27} (¥5.980) - 3.630 / 1.836.141 <80-100%> (-6%)',\n",
       " '15./00.  [PSV] Shiro to Kuro no Alice: Twilight Line<ADV> (Idea Factory) {2018.11.15} (¥6.300) - 3.068 / NEW <40-60%> ',\n",
       " '16./00.  [NSW] RPG Maker MV Trinity <ETC> (Kadokawa Games) {2018.11.15} (¥7.800) - 3.015 / NEW <20-40%> ',\n",
       " \"17./11. [PS4] Marvel's Spider-Man<ADV> (Sony Interactive Entertainment) {2018.09.07} (¥6.900) - 2.849 / 294.847 <80-100%> (-13%)\",\n",
       " '18./00.  [PS4] RPG Maker MV Trinity <ETC> (Kadokawa Games) {2018.11.15} (¥7.800) - 2.243 / NEW <20-40%> ',\n",
       " \"19./12. [NSW] Taiko no Tatsujin: Drum 'n' Fun! <ACT> (Bandai Namco Games) {2018.07.19} (¥6.100) - 2.188 / 224.930 <80-100%> (-5%)\",\n",
       " '20./13. [NSW] Kirby Star Allies <ACT> (Nintendo) {2018.03.16} (¥5.980) - 2.049 / 619.949 <80-100%> (-4%)',\n",
       " '21./17. [PS4] Winning Eleven 2019 <SPT> (Konami) {2018.08.30} (¥7.600) - 1.841 / 137.378 <80-100%> (+3%)',\n",
       " '22./16. [PS4] Kingdom Hearts HD I.5 + II.5 ReMIX <Kingdom Hearts HD I.5 ReMIX <Kingdom Hearts \\\\ Kingdom Hearts Re:Chain of Memories> \\\\ Kingdom Hearts HD II.5 ReMIX <Kingdom Hearts II \\\\ Kingdom Hearts II: Final Mix+ \\\\ Kingdom Hearts: Birth by Sleep>> <RPG> (Square Enix) {2017.03.09} (¥6.800) - 1.728 / 215.144 <80-100%> (-12%)',\n",
       " '23./23. [NSW] Mario Tennis Aces <SPT> (Nintendo) {2018.06.22} (¥5.980) - 1.649 / 351.946 <80-100%> (+9%)',\n",
       " '24./22. [NSW] FIFA 19<SPT> (Electronic Arts) {2018.09.28} (¥5.800) - 1.524 / 36.375 <60-80%> (-6%)',\n",
       " '25./20. [PS4] FIFA 19<SPT> (Electronic Arts) {2018.09.28} (¥7.800) - 1.385 / 93.924 <80-100%> (-19%)',\n",
       " '26./25. [NSW] Dragon Ball FighterZ <FTG> (Bandai Namco Games) {2018.09.27} (¥6.800) - 1.254 / 44.146 <60-80%> (-13%)',\n",
       " '27./27. [3DS] Animal Crossing: New Leaf - Welcome amiibo<ETC> (Nintendo) {2016.11.23} (¥2.700) - 1.239 / 407.238 <80-100%> (-3%)',\n",
       " '28./19. [PS4] Tetris Effect <PZL> (Sony Interactive Entertainment) {2018.11.09} (¥4.167) - 1.238 / 3.016 <20-40%> (-30%)',\n",
       " \"29./14. [PS4] Assassin's Creed: Odyssey<RPG> (Ubisoft) {2018.10.05} (¥8.400) - 1.237 / 83.996 <80-100%> (-39%)\",\n",
       " '30./21. [NSW] Cats Together <ETC> (Bandai Namco Games) {2018.11.01} (¥5.700) - 1.202 / 5.979 <20-40%> (-26%)']"
      ]
     },
     "execution_count": 15,
     "metadata": {},
     "output_type": "execute_result"
    }
   ],
   "source": [
    "clean_tab=tab_top[2:32]\n",
    "clean_tab"
   ]
  },
  {
   "cell_type": "code",
   "execution_count": 16,
   "metadata": {},
   "outputs": [],
   "source": [
    "clean_tab=tab_top[2:32]\n",
    "for i in range(len(clean_tab)):\n",
    "    temp = clean_tab[0].split(\"-\",1)\n",
    "    \n",
    "#>>> '-'.join(sentence)\n",
    "#'this-is-a-sentence'"
   ]
  },
  {
   "cell_type": "code",
   "execution_count": 17,
   "metadata": {},
   "outputs": [],
   "source": [
    "def flatten_list(x):\n",
    "    flat_list = []\n",
    "    for el in x:\n",
    "        if type(el) != list:\n",
    "            flat_list.append(el)\n",
    "        else:\n",
    "            for el2 in el:\n",
    "                flat_list.append(el2)\n",
    "    return flat_list"
   ]
  },
  {
   "cell_type": "code",
   "execution_count": 20,
   "metadata": {},
   "outputs": [
    {
     "name": "stdout",
     "output_type": "stream",
     "text": [
      "01./00.  [NSW] Pokemon: Let's Go, Pikachu! / Let's Go, Eevee!<RPG> (Pokemon Co.) {2018.11.16} (¥5.980) - 664.198 / NEW <40-60%> \n",
      "03./02. [NSW] Super Mario Party <ETC> (Nintendo) {2018.10.05} (¥5.980) - 17.486 / 326.510 <80-100%> (-15%)\n"
     ]
    }
   ],
   "source": [
    "temp1=clean_tab[0]\n",
    "print(temp1)\n",
    "\n",
    "temp2=clean_tab[2]\n",
    "print(temp2)\n",
    "\n",
    "temp=temp2"
   ]
  },
  {
   "cell_type": "code",
   "execution_count": 130,
   "metadata": {},
   "outputs": [
    {
     "name": "stdout",
     "output_type": "stream",
     "text": [
      "[1, 0, 'NSW', 'RPG', '2018.11.16', 5980, 664198, 664198, '40-60%', 0, True, \"Pokemon: Let's Go, Pikachu! / Let's Go, Eevee!\"]\n",
      "[3, 2, 'NSW', 'ETC', '2018.10.05', 5980, 17486, 326510, '80-100%', -15, False, 'Super Mario Party']\n"
     ]
    }
   ],
   "source": [
    "\n",
    "\n",
    "temp=temp1\n",
    "\n",
    "def mine_sw_info(temp):\n",
    "    row = []\n",
    "    # Postition and previous week position\n",
    "    row.append( int(re.findall(r\"[0-9]{2}\",temp)[0]) )\n",
    "    row.append( int(re.findall(r\"[0-9]{2}\",temp)[1]) )\n",
    "    # Find all things between [ ] and obtain the first one to get the system\n",
    "    row.append(re.findall(r\"\\[(.*?)\\]\",temp)[0])\n",
    "    # Find all things between < > and obtain the penultimate one to get the genre\n",
    "    row.append(re.findall(r\"\\<(.*?)\\>\",temp)[-2])\n",
    "    # Find all things between { } and obtain the last one to get the day of release\n",
    "    row.append(re.findall(r\"\\{(.*?)\\}\",temp)[-1])\n",
    "\n",
    "\n",
    "\n",
    "    if re.findall(r\"\\((.*?)\\)\",temp)[-1].find(\"%\") >= 0: # Not a new release\n",
    "        # price\n",
    "        row.append(  int(re.findall(r\"\\((.*?)\\)\",temp)[-2].replace(\".\",\"\").replace(\"¥\",\"\")) )\n",
    "        # Units this week\n",
    "        row.append(  int(re.findall(r\"\\-(.*?)\\/\",temp)[-1].replace(\".\",\"\")) )\n",
    "        # Total units\n",
    "        row.append(  int(re.findall(r\"\\/(.*?)\\<\",temp)[-1].replace(\".\",\"\")) )\n",
    "        # Percentage of sales\n",
    "        row.append(re.findall(r\"\\<(.*?)\\>\",temp)[-1])\n",
    "        # Change with respect to the last week in percentage\n",
    "        row.append(  int(re.findall(r\"\\((.*?)\\)\",temp)[-1].replace(\"%\",\"\")) )\n",
    "        # Add a boolean to indicate this is not a new release\n",
    "        row.append(  False )\n",
    "    else:\n",
    "        # price\n",
    "        row.append(  int(re.findall(r\"\\((.*?)\\)\",temp)[-1].replace(\".\",\"\").replace(\"¥\",\"\")) )\n",
    "        # Units this week\n",
    "        row.append(  int(re.findall(r\"\\-(.*?)\\/\",temp)[-1].replace(\".\",\"\")) )\n",
    "        # Total Units = Units this week\n",
    "        row.append(  int(re.findall(r\"\\-(.*?)\\/\",temp)[-1].replace(\".\",\"\")) )\n",
    "        # Percentage of sales\n",
    "        row.append(re.findall(r\"\\<(.*?)\\>\",temp)[-1])\n",
    "        # Change with respect to the last week in percentage, so put 0 to indicate new\n",
    "        row.append( 0)\n",
    "        # Add a boolean to indicate this is not a new release\n",
    "        row.append(  True )\n",
    "    \n",
    "    # Lastly, the name of the game\n",
    "    name=temp.split(f\"[{row[2]}]\")[-1].split(f\"<{row[3]}>\")[0]\n",
    "    row.append(name.lstrip().rstrip())\n",
    "    return row\n",
    "\n",
    "def create_top30_list():\n",
    "    # need to create the header and append the rows in one page\n",
    "    return \"work_in_progress\"\n",
    "\n",
    "\n",
    "print(mine_sw_info(temp1))\n",
    "print(mine_sw_info(temp2))"
   ]
  },
  {
   "cell_type": "code",
   "execution_count": null,
   "metadata": {},
   "outputs": [],
   "source": []
  },
  {
   "cell_type": "code",
   "execution_count": null,
   "metadata": {},
   "outputs": [],
   "source": []
  },
  {
   "cell_type": "code",
   "execution_count": null,
   "metadata": {},
   "outputs": [],
   "source": []
  },
  {
   "cell_type": "code",
   "execution_count": null,
   "metadata": {},
   "outputs": [],
   "source": []
  },
  {
   "cell_type": "code",
   "execution_count": null,
   "metadata": {},
   "outputs": [],
   "source": []
  },
  {
   "cell_type": "code",
   "execution_count": null,
   "metadata": {},
   "outputs": [],
   "source": []
  },
  {
   "cell_type": "code",
   "execution_count": null,
   "metadata": {},
   "outputs": [],
   "source": []
  },
  {
   "cell_type": "code",
   "execution_count": null,
   "metadata": {},
   "outputs": [],
   "source": []
  },
  {
   "cell_type": "code",
   "execution_count": null,
   "metadata": {},
   "outputs": [],
   "source": [
    "# https://www.neogaf.com/threads/media-create-sales-archive-thread-2.416253/#post-147729422"
   ]
  },
  {
   "cell_type": "code",
   "execution_count": null,
   "metadata": {},
   "outputs": [],
   "source": [
    "url=\"https://www.resetera.com/threads/media-create-sales-archive-thread.4115/\"\n",
    "ustitles = requests.get(url)\n",
    "soup = BeautifulSoup(ustitles.text)\n",
    "links=soup.findAll(\"a\", {\"class\": \"link link--internal\"})  #class=\"link link--internal\" "
   ]
  },
  {
   "cell_type": "code",
   "execution_count": null,
   "metadata": {},
   "outputs": [],
   "source": []
  },
  {
   "cell_type": "code",
   "execution_count": null,
   "metadata": {},
   "outputs": [],
   "source": []
  },
  {
   "cell_type": "code",
   "execution_count": null,
   "metadata": {},
   "outputs": [],
   "source": []
  },
  {
   "cell_type": "code",
   "execution_count": null,
   "metadata": {},
   "outputs": [],
   "source": []
  },
  {
   "cell_type": "code",
   "execution_count": null,
   "metadata": {},
   "outputs": [],
   "source": []
  },
  {
   "cell_type": "code",
   "execution_count": null,
   "metadata": {},
   "outputs": [],
   "source": []
  },
  {
   "cell_type": "code",
   "execution_count": null,
   "metadata": {},
   "outputs": [],
   "source": []
  },
  {
   "cell_type": "code",
   "execution_count": null,
   "metadata": {},
   "outputs": [],
   "source": []
  },
  {
   "cell_type": "code",
   "execution_count": null,
   "metadata": {},
   "outputs": [],
   "source": []
  },
  {
   "cell_type": "code",
   "execution_count": null,
   "metadata": {},
   "outputs": [],
   "source": []
  },
  {
   "cell_type": "code",
   "execution_count": null,
   "metadata": {},
   "outputs": [],
   "source": []
  }
 ],
 "metadata": {
  "kernelspec": {
   "display_name": "Python 3",
   "language": "python",
   "name": "python3"
  },
  "language_info": {
   "codemirror_mode": {
    "name": "ipython",
    "version": 3
   },
   "file_extension": ".py",
   "mimetype": "text/x-python",
   "name": "python",
   "nbconvert_exporter": "python",
   "pygments_lexer": "ipython3",
   "version": "3.8.3"
  }
 },
 "nbformat": 4,
 "nbformat_minor": 4
}
